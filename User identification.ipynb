{
 "cells": [
  {
   "cell_type": "markdown",
   "metadata": {},
   "source": [
    "# Идентификация пользователя:Финальный отчёт"
   ]
  },
  {
   "cell_type": "markdown",
   "metadata": {},
   "source": [
    "В этом проекте мы будем решать задачу идентификации пользователя по его поведению в сети Интернет. Это сложная и интересная задача на стыке анализа данных и поведенческой психологии. В качестве примера, компания Яндекс решает задачу идентификации взломщика почтового ящика по его поведению. В двух словах, взломщик будет себя вести не так, как владелец ящика: он может не удалять сообщения сразу по прочтении, как это делал хозяин, он будет по-другому ставить флажки сообщениям и даже по-своему двигать мышкой. Тогда такого злоумышленника можно идентифицировать и \"выкинуть\" из почтового ящика, предложив хозяину войти по SMS-коду. Этот пилотный проект описан в статье на Хабрахабре. Похожие вещи делаются, например, в Google Analytics и описываются в научных статьях, найти можно многое по фразам \"Traversal Pattern Mining\" и \"Sequential Pattern Mining\".\n",
    "\n",
    "Мы будем решать похожую задачу: по последовательности из нескольких веб-сайтов, посещенных подряд один и тем же человеком, мы будем идентифицировать этого человека. Идея такая: пользователи Интернета по-разному переходят по ссылкам, и это может помогать их идентифицировать.\n",
    "\n",
    "Имеются данные с прокси-серверов Университета Блеза Паскаля, они имеют очень простой вид. Для каждого пользователя заведен csv-файл с названием user\\*\\*\\*\\*.csv (где вместо звездочек – 4 цифры, соответствующие ID пользователя), а в нем посещения сайтов записаны в следующем формате: <br>\n",
    "\n",
    "<center>*timestamp, посещенный веб-сайт*</center>\n"
   ]
  },
  {
   "cell_type": "markdown",
   "metadata": {},
   "source": [
    "Импортируем необходимые библиотеки:"
   ]
  },
  {
   "cell_type": "code",
   "execution_count": 163,
   "metadata": {},
   "outputs": [],
   "source": [
    "from __future__ import division, print_function\n",
    "# отключим всякие предупреждения Anaconda\n",
    "import warnings\n",
    "warnings.filterwarnings('ignore')\n",
    "from glob import glob\n",
    "import os\n",
    "import pickle\n",
    "import numpy as np\n",
    "import pandas as pd\n",
    "from scipy.sparse import csr_matrix\n",
    "from sklearn.model_selection import train_test_split, StratifiedKFold, TimeSeriesSplit, cross_val_score, GridSearchCV\n",
    "from sklearn.linear_model import SGDClassifier,LogisticRegressionCV\n",
    "from sklearn.metrics import roc_auc_score\n",
    "from sklearn.preprocessing import StandardScaler\n",
    "from matplotlib import pyplot as plt\n",
    "from sklearn.linear_model import LogisticRegression, LogisticRegressionCV\n",
    "from sklearn.feature_extraction.text import CountVectorizer\n",
    "from scipy.sparse import hstack,vstack\n"
   ]
  },
  {
   "cell_type": "code",
   "execution_count": 10,
   "metadata": {},
   "outputs": [],
   "source": [
    "def write_to_submission_file(predicted_labels, out_file,\n",
    "                             target='target', index_label=\"session_id\"):\n",
    "    # turn predictions into data frame and save as csv file\n",
    "    predicted_df = pd.DataFrame(predicted_labels,\n",
    "                                index = np.arange(1, predicted_labels.shape[0] + 1),\n",
    "                                columns=[target])\n",
    "    predicted_df.to_csv(out_file, index_label=index_label)"
   ]
  },
  {
   "cell_type": "markdown",
   "metadata": {},
   "source": [
    "И данные:"
   ]
  },
  {
   "cell_type": "code",
   "execution_count": 2,
   "metadata": {},
   "outputs": [],
   "source": [
    "PATH_TO_DATA = 'capstone_user_identification'"
   ]
  },
  {
   "cell_type": "code",
   "execution_count": 3,
   "metadata": {},
   "outputs": [],
   "source": [
    "train_df = pd.read_csv(os.path.join(PATH_TO_DATA, 'train_sessions.csv'),\n",
    "                       index_col='session_id')\n",
    "\n",
    "test_df = pd.read_csv(os.path.join(PATH_TO_DATA, 'test_sessions.csv'),\n",
    "                      index_col='session_id')\n",
    "\n",
    "train_df.sort_values(by='time1', inplace=True)"
   ]
  },
  {
   "cell_type": "code",
   "execution_count": 4,
   "metadata": {},
   "outputs": [],
   "source": [
    "times = ['time%s' % i for i in range(1, 11)]\n",
    "sites = ['site%s' % i for i in range(1, 11)]"
   ]
  },
  {
   "cell_type": "code",
   "execution_count": 131,
   "metadata": {},
   "outputs": [],
   "source": [
    "with open(os.path.join(PATH_TO_DATA, 'site_dic.pkl'), \"rb\") as file:\n",
    "        site_dict = pickle.load(file)"
   ]
  },
  {
   "cell_type": "markdown",
   "metadata": {},
   "source": [
    "Напишем функцию для предобрабоки данных. Значения NaN для сайтов я заменяю на нули."
   ]
  },
  {
   "cell_type": "code",
   "execution_count": 147,
   "metadata": {},
   "outputs": [],
   "source": [
    "def raw_to_good (train_df, test_df):\n",
    "    \n",
    "    print(train_df.shape, test_df.shape)\n",
    "\n",
    "    train_df.loc[:, times] = train_df[times].apply(pd.to_datetime)\n",
    "    test_df.loc[:, times] = test_df[times].apply(pd.to_datetime)\n",
    "\n",
    "    train_df = feature_engineering(train_df)\n",
    "    test_df = feature_engineering(test_df)\n",
    "    \n",
    "    train_df[sites] = train_df[sites].fillna(0).astype('int')\n",
    "    test_df[sites] = test_df[sites].fillna(0).astype('int')\n",
    "    \n",
    "    print(train_df.shape, test_df.shape)\n",
    "    \n",
    "    return train_df, test_df"
   ]
  },
  {
   "cell_type": "markdown",
   "metadata": {},
   "source": [
    "И напишем функцию для создания признаков,далее поясню по каждому из них"
   ]
  },
  {
   "cell_type": "code",
   "execution_count": 146,
   "metadata": {},
   "outputs": [],
   "source": [
    "def feature_engineering(data):\n",
    "    \n",
    "    data['min'] = data[times].min(axis=1)\n",
    "    data['max'] = data[times].max(axis=1)\n",
    "    \n",
    "    data['session_timespan'] = (data['max'] - data['min']).apply(lambda x: x.total_seconds()).astype('int')\n",
    "    data['start_hour'] = data['min'].apply(lambda x: x.hour)\n",
    "    data['day_of_week'] = data['min'].apply(lambda x: x.dayofweek)\n",
    "    data['start_month'] = data['min'].apply(lambda x: x.month)\n",
    "    \n",
    "    data['#unique_sites'] = data[sites].nunique(axis=1)\n",
    "    \n",
    "    data['morning'] = ((data['start_hour'] >= 7) & (data['start_hour'] <= 11)).astype('int')\n",
    "    data['day'] = ((data['start_hour'] >= 12) & (data['start_hour'] <= 18)).astype('int')\n",
    "    data['evening'] = ((data['start_hour'] >= 19) & (data['start_hour'] <= 23)).astype('int')\n",
    "    data['night'] = ((data['start_hour'] >= 0) & (data['start_hour'] <= 6)).astype('int')\n",
    "    \n",
    "    data['youtube']  = check(data[sites].fillna(0).astype('int').values,youtube_freq)\n",
    "    data['facebook']  = check(data[sites].fillna(0).astype('int').values,facebook_freq)\n",
    "\n",
    "    \n",
    "    return data"
   ]
  },
  {
   "cell_type": "code",
   "execution_count": 141,
   "metadata": {},
   "outputs": [],
   "source": [
    "youtube_freq=dict([(key,value) for key, value in site_dict.items() if 'youtube' in key.lower()])\n",
    "facebook_freq=dict([(key,value) for key, value in site_dict.items() if 'facebook' in key.lower()])\n",
    "\n",
    "def check(sites, freq):\n",
    "    k=[]\n",
    "    \n",
    "    for line in sites:\n",
    "        ch_arr = [int(site in freq.values()) for site in line]\n",
    "        k.append(sum(ch_arr)/len([i for i in line if i > 0]))\n",
    "    \n",
    "    return k"
   ]
  },
  {
   "cell_type": "code",
   "execution_count": 148,
   "metadata": {},
   "outputs": [
    {
     "name": "stdout",
     "output_type": "stream",
     "text": [
      "(253561, 34) (82797, 31)\n",
      "(253561, 34) (82797, 33)\n",
      "Wall time: 2min 8s\n"
     ]
    }
   ],
   "source": [
    "%%time\n",
    "train, test = raw_to_good(train_df,test_df)"
   ]
  },
  {
   "cell_type": "markdown",
   "metadata": {},
   "source": [
    "# Признаки"
   ]
  },
  {
   "cell_type": "markdown",
   "metadata": {},
   "source": [
    "## #unique_sites\n",
    "Это признак- количество уникальных сайтов в сессии. Судя по гистограммам- не очень поможет отличить Alice."
   ]
  },
  {
   "cell_type": "code",
   "execution_count": 184,
   "metadata": {},
   "outputs": [
    {
     "data": {
      "image/png": "[encoded data removed]",
      "text/plain": [
       "<matplotlib.figure.Figure at 0x15c0046ee48>"
      ]
     },
     "metadata": {},
     "output_type": "display_data"
    }
   ],
   "source": [
    "fig, axes = plt.subplots(1, 2, figsize=(10, 5))\n",
    "axes = axes.ravel()\n",
    "\n",
    "axes[0].hist(train_test_df[train_test_df.target == 1]['#unique_sites'],color='red')\n",
    "axes[0].set(xlabel='Число уникальных сайтов в сессии', ylabel='Количество сессий')\n",
    "axes[0].set_title('Распределения числа уникальных \\nсайтов в сессии, Alice')\n",
    "\n",
    "axes[1].hist(train_test_df[train_test_df.target == 0]['#unique_sites'],color='blue')\n",
    "axes[1].set(xlabel='Число уникальных сайтов в сессии', ylabel='Количество сессий')\n",
    "axes[1].set_title('Распределения числа уникальных \\nсайтов в сессии, Others')\n",
    "\n",
    "plt.tight_layout()"
   ]
  },
  {
   "cell_type": "markdown",
   "metadata": {},
   "source": [
    "## session_timespan\n",
    "Следующий признак - session_timespan - длина сессии в секундах. По гитограмме-тоже не очень("
   ]
  },
  {
   "cell_type": "code",
   "execution_count": 185,
   "metadata": {},
   "outputs": [
    {
     "data": {
      "image/png": "[encoded data removed]",
      "text/plain": [
       "<matplotlib.figure.Figure at 0x15c0068fba8>"
      ]
     },
     "metadata": {},
     "output_type": "display_data"
    }
   ],
   "source": [
    "fig, axes = plt.subplots(1, 2, figsize=(10, 5))\n",
    "axes = axes.ravel()\n",
    "\n",
    "axes[0].hist(train_test_df[train_test_df.target == 1]['session_timespan'],color='red')\n",
    "axes[0].set(xlabel='Длина сессии', ylabel='Количество сессий')\n",
    "axes[0].set_title('Длина сессии, Alice')\n",
    "\n",
    "axes[1].hist(train_test_df[train_test_df.target == 0]['session_timespan'],color='blue')\n",
    "axes[1].set(xlabel='Длина сессии', ylabel='Количество сессий')\n",
    "axes[1].set_title('Длина сессии, Others')\n",
    "\n",
    "plt.tight_layout()"
   ]
  },
  {
   "cell_type": "markdown",
   "metadata": {},
   "source": [
    "## start_hour\n",
    "start_hour  - час начала сесиии. Судя по всему -  очень хороший признак, отличия прекрасно видны."
   ]
  },
  {
   "cell_type": "code",
   "execution_count": 196,
   "metadata": {},
   "outputs": [
    {
     "data": {
      "image/png": "[encoded data removed]",
      "text/plain": [
       "<matplotlib.figure.Figure at 0x15c00730a90>"
      ]
     },
     "metadata": {},
     "output_type": "display_data"
    }
   ],
   "source": [
    "fig, axes = plt.subplots(1, 2, figsize=(10, 5))\n",
    "axes = axes.ravel()\n",
    "\n",
    "axes[0].hist(train_test_df[train_test_df.target == 1]['start_hour'],color='red')\n",
    "axes[0].set(xlabel='Час', ylabel='Количество сессий')\n",
    "axes[0].set_title('Час начала сессии, Alice')\n",
    "\n",
    "axes[1].hist(train_test_df[train_test_df.target == 0]['start_hour'],color='blue')\n",
    "axes[1].set(xlabel='Час', ylabel='Количество сессий')\n",
    "axes[1].set_title('Час начала сессии, Others')\n",
    "\n",
    "plt.tight_layout()"
   ]
  },
  {
   "cell_type": "markdown",
   "metadata": {},
   "source": [
    "## day_of_week\n",
    "day_of_week - день начала сессии. Этот признак тоже возможно использовать."
   ]
  },
  {
   "cell_type": "code",
   "execution_count": 197,
   "metadata": {},
   "outputs": [
    {
     "data": {
      "image/png": "[encoded data removed]",
      "text/plain": [
       "<matplotlib.figure.Figure at 0x15c00514860>"
      ]
     },
     "metadata": {},
     "output_type": "display_data"
    }
   ],
   "source": [
    "fig, axes = plt.subplots(1, 2, figsize=(10, 5))\n",
    "axes = axes.ravel()\n",
    "\n",
    "axes[0].hist(train_test_df[train_test_df.target == 1]['day_of_week'],color='red')\n",
    "axes[0].set(xlabel='День недели', ylabel='Количество сессий')\n",
    "axes[0].set_title('День недели начала сессии, Alice')\n",
    "\n",
    "axes[1].hist(train_test_df[train_test_df.target == 0]['day_of_week'],color='blue')\n",
    "axes[1].set(xlabel='День недели', ylabel='Количество сессий')\n",
    "axes[1].set_title('День недели начала сессии, Others')\n",
    "\n",
    "plt.tight_layout()"
   ]
  },
  {
   "cell_type": "markdown",
   "metadata": {},
   "source": [
    "## start_month\n",
    "start_month - месяц начала сессии"
   ]
  },
  {
   "cell_type": "code",
   "execution_count": 198,
   "metadata": {},
   "outputs": [
    {
     "data": {
      "image/png": "[encoded data removed]",
      "text/plain": [
       "<matplotlib.figure.Figure at 0x15c36787978>"
      ]
     },
     "metadata": {},
     "output_type": "display_data"
    }
   ],
   "source": [
    "fig, axes = plt.subplots(1, 2, figsize=(10, 5))\n",
    "axes = axes.ravel()\n",
    "\n",
    "axes[0].hist(train_test_df[train_test_df.target == 1]['start_month'],color='red')\n",
    "axes[0].set(xlabel='Месяц', ylabel='Количество сессий')\n",
    "axes[0].set_title('Месяц начала сессии, Alice')\n",
    "\n",
    "axes[1].hist(train_test_df[train_test_df.target == 0]['start_month'],color='blue')\n",
    "axes[1].set(xlabel='Месяц', ylabel='Количество сессий')\n",
    "axes[1].set_title('Месяц начала сессии, Others')\n",
    "\n"
   ]
  },
  {
   "cell_type": "markdown",
   "metadata": {},
   "source": [
    "## facebook\n",
    "facebook - доля фейсбука в сессии (проще говоря, количество сайтов с facebook в названии, делённое на длину сессии). \n",
    "\n",
    "Честно говоря, этот признак не очень)"
   ]
  },
  {
   "cell_type": "code",
   "execution_count": 174,
   "metadata": {},
   "outputs": [
    {
     "data": {
      "text/plain": [
       "Text(0.5,1,'facebook, Others')"
      ]
     },
     "execution_count": 174,
     "metadata": {},
     "output_type": "execute_result"
    },
    {
     "data": {
      "image/png": "[encoded data removed]",
      "text/plain": [
       "<matplotlib.figure.Figure at 0x200a8cddcf8>"
      ]
     },
     "metadata": {},
     "output_type": "display_data"
    }
   ],
   "source": [
    "fig, axes = plt.subplots(1, 2, figsize=(10, 5))\n",
    "axes = axes.ravel()\n",
    "\n",
    "axes[0].hist(train_test_df[train_test_df.target == 1]['facebook'],color='red')\n",
    "axes[0].set(xlabel='Доля', ylabel='Количество сессий')\n",
    "axes[0].set_title('facebook, Alice')\n",
    "\n",
    "axes[1].hist(train_test_df[train_test_df.target == 0]['facebook'],color='blue')\n",
    "axes[1].set(xlabel='Доля', ylabel='Количество сессий')\n",
    "axes[1].set_title('facebook, Others')\n"
   ]
  },
  {
   "cell_type": "markdown",
   "metadata": {},
   "source": [
    "## youtube\n",
    "youtube - аналогичен признаку facebook, но с сайтами с youtube в названии. Здесь уже шансы получше."
   ]
  },
  {
   "cell_type": "code",
   "execution_count": 175,
   "metadata": {},
   "outputs": [
    {
     "data": {
      "text/plain": [
       "Text(0.5,1,'youtube, Others')"
      ]
     },
     "execution_count": 175,
     "metadata": {},
     "output_type": "execute_result"
    },
    {
     "data": {
      "image/png": "[encoded data removed]",
      "text/plain": [
       "<matplotlib.figure.Figure at 0x200b63c6c18>"
      ]
     },
     "metadata": {},
     "output_type": "display_data"
    }
   ],
   "source": [
    "fig, axes = plt.subplots(1, 2, figsize=(10, 5))\n",
    "axes = axes.ravel()\n",
    "\n",
    "axes[0].hist(train_test_df[train_test_df.target == 1]['youtube'],color='red')\n",
    "axes[0].set(xlabel='Доля', ylabel='Количество сессий')\n",
    "axes[0].set_title('youtube, Alice')\n",
    "\n",
    "axes[1].hist(train_test_df[train_test_df.target == 0]['youtube'],color='blue')\n",
    "axes[1].set(xlabel='Доля', ylabel='Количество сессий')\n",
    "axes[1].set_title('youtube, Others')\n"
   ]
  },
  {
   "cell_type": "markdown",
   "metadata": {},
   "source": [
    "## morning, day, evening, night\n",
    "Эти признаки показывают, когда началась сессия. "
   ]
  },
  {
   "cell_type": "markdown",
   "metadata": {},
   "source": [
    "# Модели\n",
    "Теперь непосредственно к моделям. Их было сделано всего две.\n",
    "## LogisticRegression без трансформации данных\n",
    "Модель обучалась на данных - номера  сайтов и различные признаки, предварительно преобразованных в формат разреженной матрицы. Кроссс - валидация - StratifiedKFold с тремя фолдами. Оценивалась ROC AUC по кросс-валидации и валидационной выборке. После этого подбирался гиперпараметр. В принципе, ничего особенного и выдающегося."
   ]
  },
  {
   "cell_type": "code",
   "execution_count": 151,
   "metadata": {},
   "outputs": [],
   "source": [
    "train_test_df = pd.concat([train, test])\n",
    "train_test_df_sites = train_test_df[sites]"
   ]
  },
  {
   "cell_type": "code",
   "execution_count": 11,
   "metadata": {},
   "outputs": [],
   "source": [
    "def to_dense(X):\n",
    "    indptr = [0]\n",
    "    indices = []\n",
    "    data = []\n",
    "    vocabulary = {}\n",
    "    for i in np.array(X.as_matrix()):\n",
    "        for j in i:\n",
    "            index = vocabulary.setdefault(j, len(vocabulary))\n",
    "            indices.append(j)\n",
    "            data.append(1)\n",
    "        indptr.append(len(indices))\n",
    "    \n",
    "    \n",
    "    X_sparse = csr_matrix((data, indices, indptr), dtype=int)[:, 1:]\n",
    "    \n",
    "    return  X_sparse"
   ]
  },
  {
   "cell_type": "code",
   "execution_count": 112,
   "metadata": {},
   "outputs": [],
   "source": [
    "def training(train,test,features):\n",
    "    \n",
    "    train_test_df = pd.concat([train, test])\n",
    "    train_test_df_features = train_test_df[features]\n",
    "    \n",
    "    train_test_sparse = to_dense(train_test_df_features)\n",
    "    \n",
    "    X_train_sparse = train_test_sparse[:train.shape[0],:]\n",
    "    X_test_sparse = train_test_sparse[train.shape[0]:,:]\n",
    "    \n",
    "    y = train.target.as_matrix()\n",
    "\n",
    "    \n",
    "    train_share = int(.7 * X_train_sparse.shape[0])\n",
    "    \n",
    "    X_train, y_train = X_train_sparse[:train_share, :], y[:train_share]\n",
    "    X_valid, y_valid  = X_train_sparse[train_share:, :], y[train_share:]\n",
    "\n",
    "    \n",
    "    \n",
    "    logit = LogisticRegression()\n",
    "    \n",
    "    time_split = TimeSeriesSplit(n_splits=10)\n",
    "    skf = StratifiedKFold(n_splits=3)\n",
    "    \n",
    "    params = {'C': np.linspace(0.00001, 2, 10)}\n",
    "    \n",
    "    logit_grid = GridSearchCV(estimator=logit, param_grid=params,\n",
    "                          scoring='roc_auc', n_jobs=-1,\n",
    "                          cv=skf)\n",
    "    logit_grid.fit(X_train, y_train)\n",
    "\n",
    "    #print('ROC AUC score: ', logit_grid.best_score_)\n",
    "\n",
    "    a = logit_grid.best_estimator_\n",
    "    a.fit(X_train, y_train)\n",
    "    \n",
    "    val_score = roc_auc_score( y_valid, a.predict_proba(X_valid)[:, 1])\n",
    "    \n",
    "    print('Valid score: ',val_score)\n",
    "\n",
    "    a.fit(X_train_sparse, y)\n",
    "    result  = a.predict_proba(X_test_sparse)\n",
    "\n",
    "    \n",
    "    return val_score, result"
   ]
  },
  {
   "cell_type": "code",
   "execution_count": 153,
   "metadata": {},
   "outputs": [
    {
     "name": "stdout",
     "output_type": "stream",
     "text": [
      "Valid score:  0.8798697434526108\n",
      "Wall time: 1min 36s\n"
     ]
    }
   ],
   "source": [
    "%%time\n",
    "features = ['site' + str(i) for i in range(1,11)] +\\\n",
    "           ['youtube']#['morning','day','evening','night']\n",
    "scr, result = training(train, test, features)"
   ]
  },
  {
   "cell_type": "code",
   "execution_count": null,
   "metadata": {},
   "outputs": [],
   "source": [
    "write_to_submission_file(result[:,1], 'start_hour.csv')"
   ]
  },
  {
   "cell_type": "markdown",
   "metadata": {},
   "source": [
    "### Результаты на валидационной выборке для различных признаков\n",
    "\n",
    "\n",
    "Sites +'session_timespan', '#unique_sites', 'start_hour', 'day_of_week','start_month'   0.926763947844081 \n",
    "\n",
    "only sites  0.8800871645143995\n",
    "\n",
    "Sites +'session_timespan'  0.87918673242056\n",
    "\n",
    "Sites +'unique_sites'   0.8795062393617561\n",
    "\n",
    "Sites +'start_hour'  0.9477759133274511\n",
    "\n",
    "Sites +'day_of_week'  0.90114990321952\n",
    "\n",
    "Sites +'start_month'  0.8692979826535584\n",
    "\n",
    "Sites +'session_timespan', '#unique_sites', 'start_hour', 'day_of_week','start_month' + daytimes 0.9256392334422704\n",
    "\n",
    "'youtube'   0.8798697434526108\n",
    "\n",
    "'facebook'   0.8799271697172114\n"
   ]
  },
  {
   "cell_type": "markdown",
   "metadata": {},
   "source": [
    "## LogisticRegression с преобразованием CountVectorizer\n",
    "Последовательность сайтов в сессии мы воспринимаем как bag of words,с максимальным количеством признаков 50000,векторизуем, и прилепляем затем к преобразованным данным признаки.  Кросс-валидация - TimeSeriesSplit с десятью разбиениями. Оценивалась по ROC AUC на кросс-валидации."
   ]
  },
  {
   "cell_type": "code",
   "execution_count": 169,
   "metadata": {},
   "outputs": [],
   "source": [
    "def training_withCV(train,test,features):\n",
    "\n",
    "    \n",
    "    y = train.target.astype('int').values\n",
    "\n",
    "    cv = CountVectorizer(ngram_range=(1, 3), max_features=50000)\n",
    "    \n",
    "    train[sites].to_csv('train.txt', sep=' ', index=None, header=None)\n",
    "    test[sites].to_csv('test.txt', sep=' ', index=None, header=None)\n",
    "\n",
    "    \n",
    "    with open('train.txt') as inp_train_file:\n",
    "        X_trainCV = cv.fit_transform(inp_train_file)\n",
    "    \n",
    "    with open('test.txt') as inp_test_file:\n",
    "        X_testCV = cv.transform(inp_test_file)\n",
    "\n",
    "    X_trainCV = hstack([X_trainCV,train[features].values])\n",
    "    X_testCV = hstack([X_testCV,test[features].values])\n",
    "    \n",
    "    \n",
    "    \n",
    "    logit = LogisticRegression( solver='liblinear')\n",
    "    time_split = TimeSeriesSplit(n_splits=10)\n",
    "    \n",
    "    params = {'C': np.logspace(-2, 2, 10)}\n",
    "    \n",
    "    logit_grid = GridSearchCV(estimator=logit, param_grid=params,\n",
    "                          scoring='roc_auc', n_jobs=-1,\n",
    "                          cv=time_split)\n",
    "    print('-------------')\n",
    "    logit_grid.fit(X_trainCV, y)\n",
    "    \n",
    "    print(logit_grid.best_score_, logit_grid.best_params_)\n",
    "\n",
    "\n",
    "    a = logit_grid.best_estimator_\n",
    "    \n",
    "    result  = a.predict_proba(X_testCV)\n",
    "\n",
    "    return logit_grid.best_score_, result"
   ]
  },
  {
   "cell_type": "code",
   "execution_count": 172,
   "metadata": {},
   "outputs": [
    {
     "name": "stdout",
     "output_type": "stream",
     "text": [
      "-------------\n",
      "0.9198687588277933 {'C': 0.21544346900318834}\n",
      "Wall time: 16min 34s\n"
     ]
    }
   ],
   "source": [
    "%%time\n",
    "\n",
    "features = ['youtube','day_of_week' , 'start_hour','morning','day','evening','night'] #['day_of_week' , 'start_hour','morning','day','evening','night']\n",
    "\n",
    "scrCV, resultCV = training_withCV(train, test, features)"
   ]
  },
  {
   "cell_type": "markdown",
   "metadata": {},
   "source": [
    "0.9168257997568604 {'C': 0.21544346900318834}\n"
   ]
  },
  {
   "cell_type": "code",
   "execution_count": 173,
   "metadata": {},
   "outputs": [],
   "source": [
    "write_to_submission_file(resultCV[:,1], 'TRY.csv')"
   ]
  },
  {
   "cell_type": "markdown",
   "metadata": {},
   "source": [
    "### Результаты на кросс - валидации и гиперпараметры для различных признаков\n",
    "\n",
    "Only sites (0.8706696528484077, {'C': 0.21544346900318834})\n",
    "\n",
    "'start_hour' (0.9029250810074426 {'C': 0.5994842503189409}\n",
    "\n",
    "'start_hour', 'day_of_week'   0.9013968026848076 {'C': 0.5994842503189409}\n",
    "\n",
    "'morning','day','evening','night' 0.9173773731531685 {'C': 0.21544346900318834}\n",
    "\n",
    "'session_timespan', '#unique_sites', 'start_hour', 'day_of_week','start_month','morning','day','evening','night'  0.9142997237171296 {'C': 0.21544346900318834}\n",
    "\n",
    "'day_of_week' , 'start_hour','morning','day','evening','night' 0.9168316533015023 {'C': 0.21544346900318834}"
   ]
  },
  {
   "cell_type": "markdown",
   "metadata": {},
   "source": [
    "# Выводы\n",
    "Модель с трансформацией данных показала себя несомненно лучше. Конечно, итоговый результат не самый крутой, но ничего страшного)\n",
    "\n",
    "Лучший мой результат - 0.94494 на метрике ROC_AUC, 1528 место. Как мне кажется, такое решение имеет прикладное применение для детекции пользователя.\n",
    "\n",
    "### Что не удалось:\n",
    "- Трансформировать данные не только через CountVecorizer\n",
    "- Применить другие модели\n",
    "- Обучить модель на большем количестве данных\n",
    "\n",
    "### С чем поработал и чему научился:\n",
    "- Предобрабатывать данные,особенно в datetime формате\n",
    "- Применять кросс-валидацию и логистическую регрессию\n",
    "- Посоставлял разные признаки для задачи\n",
    "- Узнал про разреженный формат матриц\n",
    "\n",
    "##  Вам спасибо за проверку, а создателям спасибо за курс ;)"
   ]
  },
  {
   "cell_type": "code",
   "execution_count": null,
   "metadata": {},
   "outputs": [],
   "source": []
  }
 ],
 "metadata": {
  "kernelspec": {
   "display_name": "Python 3",
   "language": "python",
   "name": "python3"
  },
  "language_info": {
   "codemirror_mode": {
    "name": "ipython",
    "version": 3
   },
   "file_extension": ".py",
   "mimetype": "text/x-python",
   "name": "python",
   "nbconvert_exporter": "python",
   "pygments_lexer": "ipython3",
   "version": "3.6.4"
  }
 },
 "nbformat": 4,
 "nbformat_minor": 2
}
